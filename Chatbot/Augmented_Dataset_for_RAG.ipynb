{
  "cells": [
    {
      "cell_type": "code",
      "execution_count": 39,
      "metadata": {
        "colab": {
          "base_uri": "https://localhost:8080/"
        },
        "id": "yeDR2Da4MuKj",
        "outputId": "c1a39f21-f049-4b64-da85-888be057254a"
      },
      "outputs": [
        {
          "name": "stdout",
          "output_type": "stream",
          "text": [
            "Drive already mounted at /content/drive; to attempt to forcibly remount, call drive.mount(\"/content/drive\", force_remount=True).\n"
          ]
        }
      ],
      "source": [
        "from google.colab import drive\n",
        "drive.mount('/content/drive')"
      ]
    },
    {
      "cell_type": "code",
      "execution_count": null,
      "metadata": {
        "id": "t6z3-WvwNinQ"
      },
      "outputs": [],
      "source": [
        "import json\n",
        "import torch\n",
        "from transformers import pipeline, AutoTokenizer\n",
        "from datasets import Dataset\n",
        "import os\n",
        "import random\n",
        "from dotenv import load_dotenv\n"
      ]
    },
    {
      "cell_type": "code",
      "execution_count": 41,
      "metadata": {
        "id": "mXJgaixfNrWf"
      },
      "outputs": [],
      "source": [
        "dataset_path = \"/content/drive/MyDrive/agriculture_dataset.json\""
      ]
    },
    {
      "cell_type": "code",
      "execution_count": null,
      "metadata": {},
      "outputs": [],
      "source": [
        "load_dotenv()"
      ]
    },
    {
      "cell_type": "code",
      "execution_count": null,
      "metadata": {
        "id": "3T39smhMOT1M"
      },
      "outputs": [],
      "source": [
        "HF_TOKEN = os.getenv(\"HF_TOKEN\")  "
      ]
    },
    {
      "cell_type": "code",
      "execution_count": 43,
      "metadata": {
        "id": "tq10_MDcN-pp"
      },
      "outputs": [],
      "source": [
        "with open(dataset_path, \"r\") as f:\n",
        "    data = json.load(f)"
      ]
    },
    {
      "cell_type": "code",
      "execution_count": 44,
      "metadata": {
        "id": "lnT0Fa1ZRKAo"
      },
      "outputs": [],
      "source": [
        "prompts = [entry[\"prompt\"] for entry in data]"
      ]
    },
    {
      "cell_type": "code",
      "execution_count": 45,
      "metadata": {
        "id": "S3PI31gHRRmO"
      },
      "outputs": [],
      "source": [
        "tokenizer = AutoTokenizer.from_pretrained(\"Vamsi/T5_Paraphrase_Paws\", legacy=False, token= os.getenv(\"HF_TOKEN\"))"
      ]
    },
    {
      "cell_type": "code",
      "execution_count": 46,
      "metadata": {
        "colab": {
          "base_uri": "https://localhost:8080/"
        },
        "id": "TTs7VMzkRWSs",
        "outputId": "3593ed06-3ee0-4355-8435-c287c076c4e9"
      },
      "outputs": [
        {
          "name": "stderr",
          "output_type": "stream",
          "text": [
            "Device set to use cuda:0\n"
          ]
        }
      ],
      "source": [
        "paraphraser = pipeline(\"text2text-generation\", model=\"Vamsi/T5_Paraphrase_Paws\", tokenizer=tokenizer, device=0, token= os.getenv(\"HF_TOKEN\"))"
      ]
    },
    {
      "cell_type": "code",
      "execution_count": 47,
      "metadata": {
        "id": "OjtbCib6R3ei"
      },
      "outputs": [],
      "source": [
        "dataset = Dataset.from_dict({\"prompt\": prompts})"
      ]
    },
    {
      "cell_type": "code",
      "execution_count": 48,
      "metadata": {
        "id": "3W5d9ul3UPLJ"
      },
      "outputs": [],
      "source": [
        "synonym_map = {\n",
        "    \"crop\": [\"plant\", \"vegetation\", \"harvest\"],\n",
        "    \"fertilizer\": [\"manure\", \"compost\", \"nutrients\"],\n",
        "    \"yield\": [\"production\", \"harvest outcome\", \"crop output\"],\n",
        "    \"disease\": [\"infection\", \"pathogen\", \"plant illness\"],\n",
        "    \"recommendation\": [\"suggestion\", \"best option\", \"advice\"]\n",
        "}"
      ]
    },
    {
      "cell_type": "code",
      "execution_count": 49,
      "metadata": {
        "id": "sGZcRK2aUSmb"
      },
      "outputs": [],
      "source": [
        "def enhance_prompt(prompt):\n",
        "    words = prompt.split()\n",
        "    new_words = [random.choice(synonym_map.get(word, [word])) for word in words]\n",
        "    return \" \".join(new_words)"
      ]
    },
    {
      "cell_type": "code",
      "execution_count": 50,
      "metadata": {
        "id": "4ezTFQ86OKRW"
      },
      "outputs": [],
      "source": [
        "def batch_paraphrase(batch):\n",
        "    outputs = paraphraser(batch[\"prompt\"], num_return_sequences=2, num_beams=5, batch_size=8)\n",
        "    unique_paraphrases = []\n",
        "\n",
        "    for i, output_set in enumerate(outputs):\n",
        "        paraphrases = list(set(o[\"generated_text\"] for o in output_set))\n",
        "        enhanced_prompt = enhance_prompt(batch[\"prompt\"][i])\n",
        "        augmented_variants = list(set(paraphrases + [enhanced_prompt]))[:2]\n",
        "        unique_paraphrases.append(augmented_variants)\n",
        "\n",
        "    batch[\"augmented_prompts\"] = unique_paraphrases\n",
        "    return batch"
      ]
    },
    {
      "cell_type": "code",
      "execution_count": 51,
      "metadata": {
        "colab": {
          "base_uri": "https://localhost:8080/",
          "height": 49,
          "referenced_widgets": [
            "a1aec850263a4627b68bb5346e43146b",
            "f6e37b947c8b4da29ff2dc17d5db6857",
            "0ed1b400805d4fdfa49c23c3e79c01bc",
            "93c6221f3bae46b0959346340dcaaae7",
            "a1db5815390b480ba5d476408c16a167",
            "c144e44e2bb4499a8cb96756a399d9a4",
            "01e70f2758ca4bf581b7e0cb354b4347",
            "028854d737414d3391ed6e1da919150a",
            "22c858b732a24ae88f70e32f064d0e53",
            "f9f14cdc97d64b4b98c6050970e37972",
            "27e70054640b4b06b89b61f4d86963fc"
          ]
        },
        "id": "x61Oh-trR-3E",
        "outputId": "bc4ed2e8-853c-442d-b468-e50d1f7d719b"
      },
      "outputs": [
        {
          "data": {
            "application/vnd.jupyter.widget-view+json": {
              "model_id": "a1aec850263a4627b68bb5346e43146b",
              "version_major": 2,
              "version_minor": 0
            },
            "text/plain": [
              "Map:   0%|          | 0/1000 [00:00<?, ? examples/s]"
            ]
          },
          "metadata": {},
          "output_type": "display_data"
        }
      ],
      "source": [
        "augmented_dataset = dataset.map(batch_paraphrase, batched=True, batch_size=8)"
      ]
    },
    {
      "cell_type": "code",
      "execution_count": 52,
      "metadata": {
        "id": "CVTClEk-O7Dr"
      },
      "outputs": [],
      "source": [
        "final_data = []\n",
        "for i, entry in enumerate(data):\n",
        "    final_data.append({\n",
        "        \"prompt\": entry[\"prompt\"],\n",
        "        \"response\": entry[\"response\"],\n",
        "        \"augmented_prompts\": augmented_dataset[i][\"augmented_prompts\"]\n",
        "    })"
      ]
    },
    {
      "cell_type": "code",
      "execution_count": 53,
      "metadata": {
        "id": "xDpNB_4HPCyO"
      },
      "outputs": [],
      "source": [
        "with open(\"/content/drive/MyDrive/rag_augmented_dataset.json\", \"w\") as f:\n",
        "    json.dump(final_data, f, indent=2)"
      ]
    },
    {
      "cell_type": "code",
      "execution_count": null,
      "metadata": {
        "id": "KNB1y83CS6Vo"
      },
      "outputs": [],
      "source": []
    }
  ],
  "metadata": {
    "accelerator": "GPU",
    "colab": {
      "gpuType": "T4",
      "provenance": []
    },
    "kernelspec": {
      "display_name": "Python 3",
      "name": "python3"
    },
    "language_info": {
      "name": "python"
    },
    "widgets": {
      "application/vnd.jupyter.widget-state+json": {
        "01e70f2758ca4bf581b7e0cb354b4347": {
          "model_module": "@jupyter-widgets/controls",
          "model_module_version": "1.5.0",
          "model_name": "DescriptionStyleModel",
          "state": {
            "_model_module": "@jupyter-widgets/controls",
            "_model_module_version": "1.5.0",
            "_model_name": "DescriptionStyleModel",
            "_view_count": null,
            "_view_module": "@jupyter-widgets/base",
            "_view_module_version": "1.2.0",
            "_view_name": "StyleView",
            "description_width": ""
          }
        },
        "028854d737414d3391ed6e1da919150a": {
          "model_module": "@jupyter-widgets/base",
          "model_module_version": "1.2.0",
          "model_name": "LayoutModel",
          "state": {
            "_model_module": "@jupyter-widgets/base",
            "_model_module_version": "1.2.0",
            "_model_name": "LayoutModel",
            "_view_count": null,
            "_view_module": "@jupyter-widgets/base",
            "_view_module_version": "1.2.0",
            "_view_name": "LayoutView",
            "align_content": null,
            "align_items": null,
            "align_self": null,
            "border": null,
            "bottom": null,
            "display": null,
            "flex": null,
            "flex_flow": null,
            "grid_area": null,
            "grid_auto_columns": null,
            "grid_auto_flow": null,
            "grid_auto_rows": null,
            "grid_column": null,
            "grid_gap": null,
            "grid_row": null,
            "grid_template_areas": null,
            "grid_template_columns": null,
            "grid_template_rows": null,
            "height": null,
            "justify_content": null,
            "justify_items": null,
            "left": null,
            "margin": null,
            "max_height": null,
            "max_width": null,
            "min_height": null,
            "min_width": null,
            "object_fit": null,
            "object_position": null,
            "order": null,
            "overflow": null,
            "overflow_x": null,
            "overflow_y": null,
            "padding": null,
            "right": null,
            "top": null,
            "visibility": null,
            "width": null
          }
        },
        "0ed1b400805d4fdfa49c23c3e79c01bc": {
          "model_module": "@jupyter-widgets/controls",
          "model_module_version": "1.5.0",
          "model_name": "FloatProgressModel",
          "state": {
            "_dom_classes": [],
            "_model_module": "@jupyter-widgets/controls",
            "_model_module_version": "1.5.0",
            "_model_name": "FloatProgressModel",
            "_view_count": null,
            "_view_module": "@jupyter-widgets/controls",
            "_view_module_version": "1.5.0",
            "_view_name": "ProgressView",
            "bar_style": "success",
            "description": "",
            "description_tooltip": null,
            "layout": "IPY_MODEL_028854d737414d3391ed6e1da919150a",
            "max": 1000,
            "min": 0,
            "orientation": "horizontal",
            "style": "IPY_MODEL_22c858b732a24ae88f70e32f064d0e53",
            "value": 1000
          }
        },
        "22c858b732a24ae88f70e32f064d0e53": {
          "model_module": "@jupyter-widgets/controls",
          "model_module_version": "1.5.0",
          "model_name": "ProgressStyleModel",
          "state": {
            "_model_module": "@jupyter-widgets/controls",
            "_model_module_version": "1.5.0",
            "_model_name": "ProgressStyleModel",
            "_view_count": null,
            "_view_module": "@jupyter-widgets/base",
            "_view_module_version": "1.2.0",
            "_view_name": "StyleView",
            "bar_color": null,
            "description_width": ""
          }
        },
        "27e70054640b4b06b89b61f4d86963fc": {
          "model_module": "@jupyter-widgets/controls",
          "model_module_version": "1.5.0",
          "model_name": "DescriptionStyleModel",
          "state": {
            "_model_module": "@jupyter-widgets/controls",
            "_model_module_version": "1.5.0",
            "_model_name": "DescriptionStyleModel",
            "_view_count": null,
            "_view_module": "@jupyter-widgets/base",
            "_view_module_version": "1.2.0",
            "_view_name": "StyleView",
            "description_width": ""
          }
        },
        "93c6221f3bae46b0959346340dcaaae7": {
          "model_module": "@jupyter-widgets/controls",
          "model_module_version": "1.5.0",
          "model_name": "HTMLModel",
          "state": {
            "_dom_classes": [],
            "_model_module": "@jupyter-widgets/controls",
            "_model_module_version": "1.5.0",
            "_model_name": "HTMLModel",
            "_view_count": null,
            "_view_module": "@jupyter-widgets/controls",
            "_view_module_version": "1.5.0",
            "_view_name": "HTMLView",
            "description": "",
            "description_tooltip": null,
            "layout": "IPY_MODEL_f9f14cdc97d64b4b98c6050970e37972",
            "placeholder": "​",
            "style": "IPY_MODEL_27e70054640b4b06b89b61f4d86963fc",
            "value": " 1000/1000 [01:30&lt;00:00, 14.24 examples/s]"
          }
        },
        "a1aec850263a4627b68bb5346e43146b": {
          "model_module": "@jupyter-widgets/controls",
          "model_module_version": "1.5.0",
          "model_name": "HBoxModel",
          "state": {
            "_dom_classes": [],
            "_model_module": "@jupyter-widgets/controls",
            "_model_module_version": "1.5.0",
            "_model_name": "HBoxModel",
            "_view_count": null,
            "_view_module": "@jupyter-widgets/controls",
            "_view_module_version": "1.5.0",
            "_view_name": "HBoxView",
            "box_style": "",
            "children": [
              "IPY_MODEL_f6e37b947c8b4da29ff2dc17d5db6857",
              "IPY_MODEL_0ed1b400805d4fdfa49c23c3e79c01bc",
              "IPY_MODEL_93c6221f3bae46b0959346340dcaaae7"
            ],
            "layout": "IPY_MODEL_a1db5815390b480ba5d476408c16a167"
          }
        },
        "a1db5815390b480ba5d476408c16a167": {
          "model_module": "@jupyter-widgets/base",
          "model_module_version": "1.2.0",
          "model_name": "LayoutModel",
          "state": {
            "_model_module": "@jupyter-widgets/base",
            "_model_module_version": "1.2.0",
            "_model_name": "LayoutModel",
            "_view_count": null,
            "_view_module": "@jupyter-widgets/base",
            "_view_module_version": "1.2.0",
            "_view_name": "LayoutView",
            "align_content": null,
            "align_items": null,
            "align_self": null,
            "border": null,
            "bottom": null,
            "display": null,
            "flex": null,
            "flex_flow": null,
            "grid_area": null,
            "grid_auto_columns": null,
            "grid_auto_flow": null,
            "grid_auto_rows": null,
            "grid_column": null,
            "grid_gap": null,
            "grid_row": null,
            "grid_template_areas": null,
            "grid_template_columns": null,
            "grid_template_rows": null,
            "height": null,
            "justify_content": null,
            "justify_items": null,
            "left": null,
            "margin": null,
            "max_height": null,
            "max_width": null,
            "min_height": null,
            "min_width": null,
            "object_fit": null,
            "object_position": null,
            "order": null,
            "overflow": null,
            "overflow_x": null,
            "overflow_y": null,
            "padding": null,
            "right": null,
            "top": null,
            "visibility": null,
            "width": null
          }
        },
        "c144e44e2bb4499a8cb96756a399d9a4": {
          "model_module": "@jupyter-widgets/base",
          "model_module_version": "1.2.0",
          "model_name": "LayoutModel",
          "state": {
            "_model_module": "@jupyter-widgets/base",
            "_model_module_version": "1.2.0",
            "_model_name": "LayoutModel",
            "_view_count": null,
            "_view_module": "@jupyter-widgets/base",
            "_view_module_version": "1.2.0",
            "_view_name": "LayoutView",
            "align_content": null,
            "align_items": null,
            "align_self": null,
            "border": null,
            "bottom": null,
            "display": null,
            "flex": null,
            "flex_flow": null,
            "grid_area": null,
            "grid_auto_columns": null,
            "grid_auto_flow": null,
            "grid_auto_rows": null,
            "grid_column": null,
            "grid_gap": null,
            "grid_row": null,
            "grid_template_areas": null,
            "grid_template_columns": null,
            "grid_template_rows": null,
            "height": null,
            "justify_content": null,
            "justify_items": null,
            "left": null,
            "margin": null,
            "max_height": null,
            "max_width": null,
            "min_height": null,
            "min_width": null,
            "object_fit": null,
            "object_position": null,
            "order": null,
            "overflow": null,
            "overflow_x": null,
            "overflow_y": null,
            "padding": null,
            "right": null,
            "top": null,
            "visibility": null,
            "width": null
          }
        },
        "f6e37b947c8b4da29ff2dc17d5db6857": {
          "model_module": "@jupyter-widgets/controls",
          "model_module_version": "1.5.0",
          "model_name": "HTMLModel",
          "state": {
            "_dom_classes": [],
            "_model_module": "@jupyter-widgets/controls",
            "_model_module_version": "1.5.0",
            "_model_name": "HTMLModel",
            "_view_count": null,
            "_view_module": "@jupyter-widgets/controls",
            "_view_module_version": "1.5.0",
            "_view_name": "HTMLView",
            "description": "",
            "description_tooltip": null,
            "layout": "IPY_MODEL_c144e44e2bb4499a8cb96756a399d9a4",
            "placeholder": "​",
            "style": "IPY_MODEL_01e70f2758ca4bf581b7e0cb354b4347",
            "value": "Map: 100%"
          }
        },
        "f9f14cdc97d64b4b98c6050970e37972": {
          "model_module": "@jupyter-widgets/base",
          "model_module_version": "1.2.0",
          "model_name": "LayoutModel",
          "state": {
            "_model_module": "@jupyter-widgets/base",
            "_model_module_version": "1.2.0",
            "_model_name": "LayoutModel",
            "_view_count": null,
            "_view_module": "@jupyter-widgets/base",
            "_view_module_version": "1.2.0",
            "_view_name": "LayoutView",
            "align_content": null,
            "align_items": null,
            "align_self": null,
            "border": null,
            "bottom": null,
            "display": null,
            "flex": null,
            "flex_flow": null,
            "grid_area": null,
            "grid_auto_columns": null,
            "grid_auto_flow": null,
            "grid_auto_rows": null,
            "grid_column": null,
            "grid_gap": null,
            "grid_row": null,
            "grid_template_areas": null,
            "grid_template_columns": null,
            "grid_template_rows": null,
            "height": null,
            "justify_content": null,
            "justify_items": null,
            "left": null,
            "margin": null,
            "max_height": null,
            "max_width": null,
            "min_height": null,
            "min_width": null,
            "object_fit": null,
            "object_position": null,
            "order": null,
            "overflow": null,
            "overflow_x": null,
            "overflow_y": null,
            "padding": null,
            "right": null,
            "top": null,
            "visibility": null,
            "width": null
          }
        }
      }
    }
  },
  "nbformat": 4,
  "nbformat_minor": 0
}
