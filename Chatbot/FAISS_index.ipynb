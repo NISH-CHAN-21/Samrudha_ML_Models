{
  "cells": [
    {
      "cell_type": "code",
      "execution_count": 11,
      "metadata": {
        "colab": {
          "base_uri": "https://localhost:8080/"
        },
        "id": "qf-STdVlWupB",
        "outputId": "3f4aa9fe-37f8-46c8-dc11-7c2be3df998d"
      },
      "outputs": [
        {
          "name": "stdout",
          "output_type": "stream",
          "text": [
            "Drive already mounted at /content/drive; to attempt to forcibly remount, call drive.mount(\"/content/drive\", force_remount=True).\n"
          ]
        }
      ],
      "source": [
        "from google.colab import drive\n",
        "drive.mount('/content/drive')"
      ]
    },
    {
      "cell_type": "code",
      "execution_count": null,
      "metadata": {
        "id": "gXBp_qr3XNNg"
      },
      "outputs": [],
      "source": [
        "import json\n",
        "from langchain_huggingface import HuggingFaceEmbeddings\n",
        "from langchain_community.vectorstores import FAISS\n",
        "from langchain.schema import Document\n",
        "import os\n",
        "from dotenv import load_dotenv\n",
        "load_dotenv()"
      ]
    },
    {
      "cell_type": "code",
      "execution_count": 13,
      "metadata": {
        "id": "8h8PA_1iXP7N"
      },
      "outputs": [],
      "source": [
        "with open(\"/content/drive/MyDrive/rag_augmented_dataset.json\", \"r\") as f:\n",
        "    dataset = json.load(f)"
      ]
    },
    {
      "cell_type": "code",
      "execution_count": null,
      "metadata": {
        "id": "a0ew1KhMY6gv"
      },
      "outputs": [],
      "source": [
        "HF_TOKEN = os.getenv(\"HF_TOKEN\")  \n"
      ]
    },
    {
      "cell_type": "code",
      "execution_count": 17,
      "metadata": {
        "id": "WmsjaZVPXQFu"
      },
      "outputs": [],
      "source": [
        "embedding_model = HuggingFaceEmbeddings(model_name=\"sentence-transformers/all-MiniLM-L6-v2\")"
      ]
    },
    {
      "cell_type": "code",
      "execution_count": 18,
      "metadata": {
        "id": "Hlzrh2srXQIv"
      },
      "outputs": [],
      "source": [
        "docs = []\n",
        "for entry in dataset:\n",
        "    for aug_prompt in entry[\"augmented_prompts\"]:\n",
        "        docs.append(Document(page_content=aug_prompt, metadata={\"response\": entry[\"response\"]}))"
      ]
    },
    {
      "cell_type": "code",
      "execution_count": 19,
      "metadata": {
        "id": "_ZtkLM4vXQMB"
      },
      "outputs": [],
      "source": [
        "vector_store = FAISS.from_documents(docs, embedding_model)"
      ]
    },
    {
      "cell_type": "code",
      "execution_count": 20,
      "metadata": {
        "id": "OSd9pBxAXQPb"
      },
      "outputs": [],
      "source": [
        "vector_store.save_local(\"/content/drive/MyDrive/faiss_index\")"
      ]
    },
    {
      "cell_type": "code",
      "execution_count": null,
      "metadata": {
        "id": "0D-XrC2Lb_gK"
      },
      "outputs": [],
      "source": []
    }
  ],
  "metadata": {
    "colab": {
      "provenance": []
    },
    "kernelspec": {
      "display_name": "Python 3",
      "name": "python3"
    },
    "language_info": {
      "name": "python"
    }
  },
  "nbformat": 4,
  "nbformat_minor": 0
}
